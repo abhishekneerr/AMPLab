{
 "cells": [
  {
   "cell_type": "markdown",
   "metadata": {},
   "source": [
    "<b>Audio and Music Processing Lab - Module 2</b><br>Rafael Caro Repetto<br>rafael.caro@upf.edu<br>14.02.2023\n",
    "## AMPLab2 - Introduction to music21 (2)\n",
    "This notebook presents some new methods of music21, as well as specific characteristics of the jingju and makam scores."
   ]
  },
  {
   "cell_type": "code",
   "execution_count": null,
   "metadata": {},
   "outputs": [],
   "source": [
    "from music21 import *"
   ]
  },
  {
   "cell_type": "markdown",
   "metadata": {},
   "source": [
    "### Working with jingju scores"
   ]
  },
  {
   "cell_type": "markdown",
   "metadata": {},
   "source": [
    "We are going to work with the vocal part of a jingju score. So let's save it in a variable `p`."
   ]
  },
  {
   "cell_type": "code",
   "execution_count": null,
   "metadata": {},
   "outputs": [],
   "source": [
    "s = converter.parse('lseh-YiLunMing-WenZhaoGuan-1.xml')\n",
    "pp = s.parts # all the parts from the score\n",
    "p = pp[0] # in this score, the vocal part is the first one\n",
    "p.show()"
   ]
  },
  {
   "cell_type": "markdown",
   "metadata": {},
   "source": [
    "To work with the music, we should focus on the notes, which are contained in the measures. So let's retrive all measures and notes and save them respectively in the variables `mm` and `nn` using the `.getElementsByClass` method.\n",
    "<br/>\n",
    "As always, everything retrieved should be saved as a stream."
   ]
  },
  {
   "cell_type": "code",
   "execution_count": null,
   "metadata": {},
   "outputs": [],
   "source": [
    "mm = p.getElementsByClass('Measure').stream() # all the measures from the part\n",
    "nn = p.getElementsByClass('Note').stream() # all the notes from the part\n",
    "print('Measures in the part:', len(mm))\n",
    "print('Notes in the part:', len(nn))"
   ]
  },
  {
   "cell_type": "markdown",
   "metadata": {},
   "source": [
    "As you can see, no notes were retrieved. This is due to the fact that notes are not contained in the part (`p`), but in each of its measures. So, in order to retrieve all the notes, we can apply the `.getElementsByClass` method in a `for` loop."
   ]
  },
  {
   "cell_type": "code",
   "execution_count": null,
   "metadata": {},
   "outputs": [],
   "source": [
    "nn = stream.Stream() # create a stream to store all the notes\n",
    "for m in mm:\n",
    "    for n in m.getElementsByClass('Note').stream():\n",
    "        nn.append(n)\n",
    "print('Notes in the part:', len(nn))"
   ]
  },
  {
   "cell_type": "markdown",
   "metadata": {},
   "source": [
    "Since working with notes is the goal of music21, it conveniently offers the `.notes` attribute precisely for that."
   ]
  },
  {
   "cell_type": "code",
   "execution_count": null,
   "metadata": {},
   "outputs": [],
   "source": [
    "nn = stream.Stream()\n",
    "for m in mm:\n",
    "    for n in m.notes.stream(): # NOTE: .notes\n",
    "        nn.append(n)\n",
    "print('Notes in the part', len(nn))"
   ]
  },
  {
   "cell_type": "markdown",
   "metadata": {},
   "source": [
    "As with the case of `.getElementsByClass`, the `.notes` attribute only retrives notes from the stream to which it is applied."
   ]
  },
  {
   "cell_type": "code",
   "execution_count": null,
   "metadata": {},
   "outputs": [],
   "source": [
    "nn = p.notes.stream()\n",
    "print('Notes in the part', len(nn))"
   ]
  },
  {
   "cell_type": "markdown",
   "metadata": {},
   "source": [
    "However, music21 offers the `.flat` attribute that allows for searching recursively in the streams contained in the stream to which it is applied."
   ]
  },
  {
   "cell_type": "code",
   "execution_count": null,
   "metadata": {},
   "outputs": [],
   "source": [
    "nn = p.flat.notes.stream()  # NOTE: .flat\n",
    "print('Notes in the part', len(nn))"
   ]
  },
  {
   "cell_type": "markdown",
   "metadata": {},
   "source": [
    "Now we have all the notes (and only the notes, no rests) stored in the stream `nn` that we created. Since we only stored notes there, there is no information about key nor time signature."
   ]
  },
  {
   "cell_type": "code",
   "execution_count": null,
   "metadata": {},
   "outputs": [],
   "source": [
    "nn.show()"
   ]
  },
  {
   "cell_type": "markdown",
   "metadata": {},
   "source": [
    "Interestingly, using the `.flat` attribute, the notes now relate their offset to the stream `nn`. Therefore, their offset is given with respect to the whole score."
   ]
  },
  {
   "cell_type": "code",
   "execution_count": null,
   "metadata": {},
   "outputs": [],
   "source": [
    "print('The first note of this part is in offset', nn[0].offset)"
   ]
  },
  {
   "cell_type": "markdown",
   "metadata": {},
   "source": [
    "Jingju arias usually have *banshi* changes, which are indicated in the score by a change of time signature. Let's see if this is the case."
   ]
  },
  {
   "cell_type": "code",
   "execution_count": null,
   "metadata": {},
   "outputs": [],
   "source": [
    "tSs = p.flat.getElementsByClass('TimeSignature').stream() # NOTE: .flat is required\n",
    "print('This score contains {} time signatures'.format(len(tSs)))"
   ]
  },
  {
   "cell_type": "markdown",
   "metadata": {},
   "source": [
    "Let's look at these time signatures"
   ]
  },
  {
   "cell_type": "code",
   "execution_count": null,
   "metadata": {},
   "outputs": [],
   "source": [
    "for tS in tSs:\n",
    "    print(str(tS.numerator)+'/'+str(tS.denominator), 'in measure', tS.measureNumber, 'at offset', tS.offset)"
   ]
  },
  {
   "cell_type": "code",
   "execution_count": null,
   "metadata": {},
   "outputs": [],
   "source": [
    "m = p.measure(135)\n",
    "tS = m.getElementsByClass('TimeSignature').stream()[0]\n",
    "tS.offset"
   ]
  },
  {
   "cell_type": "markdown",
   "metadata": {},
   "source": [
    "#### Working with intervals"
   ]
  },
  {
   "cell_type": "markdown",
   "metadata": {},
   "source": [
    "Intervals are a special type of object in music21 that has to be created from two notes. Let's explore the interval between the first 2 notes of this part."
   ]
  },
  {
   "cell_type": "code",
   "execution_count": null,
   "metadata": {},
   "outputs": [],
   "source": [
    "n0 = nn[0]\n",
    "n1 = nn[1]\n",
    "itv1 = interval.Interval(n0, n1)\n",
    "print(itv1)\n",
    "print('Interval from {} to {}'.format(itv1.noteStart.nameWithOctave, itv1.noteEnd.nameWithOctave)) # NOTE: .noteStart and .noteEnd\n",
    "print('Name of the interval:', itv1.name)\n",
    "print('Simple name:', itv1.simpleName)\n",
    "print('Nicer name:', itv1.niceName)\n",
    "print('Interval semitones:', itv1.semitones)# NOTE: .semitones\n",
    "print('Interval cents:', itv1.cents)# NOTE: .cents"
   ]
  },
  {
   "cell_type": "markdown",
   "metadata": {},
   "source": [
    "Sometimes we need to know the direction of the interval. Let's compare the previous interval with the one formed by the next to notes in the part."
   ]
  },
  {
   "cell_type": "code",
   "execution_count": null,
   "metadata": {},
   "outputs": [],
   "source": [
    "n2 = nn[2]\n",
    "itv2 = interval.Interval(n1, n2)\n",
    "print('Direction of the interval from {} to {}: {}'.format(itv1.noteStart.nameWithOctave, itv1.noteEnd.nameWithOctave, itv1.direction.name)) # NOTE: .direction\n",
    "print('Direction of the interval from {} to {}: {}'.format(itv2.noteStart.nameWithOctave, itv2.noteEnd.nameWithOctave, itv2.direction.name)) # NOTE: .direction"
   ]
  },
  {
   "cell_type": "markdown",
   "metadata": {},
   "source": [
    "There are different ways to work with interval direction."
   ]
  },
  {
   "cell_type": "code",
   "execution_count": null,
   "metadata": {},
   "outputs": [],
   "source": [
    "print('Name of the interval:\\t', itv2.name, '\\t\\t', itv2.directedName) # NOTE: .directedName\n",
    "print('Simple name:\\t\\t', itv2.simpleName, '\\t\\t', itv2.directedSimpleName) # NOTE: .directedSimpleName\n",
    "print('Nicer name:\\t\\t', itv2.niceName, '\\t', itv2.directedNiceName) # NOTE: .directedNiceName\n",
    "print('Interval semitones:', itv2.semitones)\n",
    "print('Interval cents:', itv2.cents)"
   ]
  },
  {
   "cell_type": "markdown",
   "metadata": {},
   "source": [
    "#### Extra functionalities with notes"
   ]
  },
  {
   "cell_type": "markdown",
   "metadata": {},
   "source": [
    "If we need to work with pairs of consequtive notes (for example, to analyse the intervals in a piece), music21 conveniently offers the methos `.previous()` and `.next()` to retrive respectively the previous and following notes."
   ]
  },
  {
   "cell_type": "code",
   "execution_count": null,
   "metadata": {},
   "outputs": [],
   "source": [
    "print('{} is preceded by {} and followed by {}'.format(n1.name, n1.previous().name, n1.next().name)) # NOTE: .previous() and .next()"
   ]
  },
  {
   "cell_type": "markdown",
   "metadata": {},
   "source": [
    "We can change the color of a note, in case, for example, that we need to find particular ones in the score.\n",
    "\n",
    "To test this functionality, let's **search for all the perfect fourths** in the score, and color the first note in red, and the second in purple."
   ]
  },
  {
   "cell_type": "code",
   "execution_count": null,
   "metadata": {},
   "outputs": [],
   "source": [
    "p4count = 0 # let's also count how many intervals are present in the part.\n",
    "\n",
    "for n in nn[:-1]:\n",
    "    itv = interval.Interval(n, n.next())\n",
    "    if itv.name == 'P4':\n",
    "        itv.noteStart.style.color = 'red'   # NOTE: .style.color\n",
    "        itv.noteEnd.style.color = 'purple'  # NOTE: .style.color\n",
    "        p4count += 1\n",
    "\n",
    "print('This part conatins {} perfect fourths'.format(p4count))\n",
    "\n",
    "nn.show()"
   ]
  },
  {
   "cell_type": "markdown",
   "metadata": {},
   "source": [
    "When we retrieve an object using methods such as `.getElementsByClass` or `.notes`, we create a reference to the original one, not a new object. Therefore, the changes we do to it affect the original object."
   ]
  },
  {
   "cell_type": "code",
   "execution_count": null,
   "metadata": {},
   "outputs": [],
   "source": [
    "s.show()"
   ]
  },
  {
   "cell_type": "markdown",
   "metadata": {},
   "source": [
    "If you pay attention to the results, you'll see that some intervals where found in which there is a rest between the two notes that form it. This might be not perceived as an interval by the listener.\n",
    "<br/>\n",
    "This is due to fact that when we call the `.notes` attribute, it only retrieves notes, and only notes, not rests. If we need to consider rests, we should use the `.notesAndRests` method."
   ]
  },
  {
   "cell_type": "code",
   "execution_count": null,
   "metadata": {},
   "outputs": [],
   "source": [
    "nr = p.flat.notesAndRests.stream()\n",
    "#nr.show()\n",
    "print('This part contains {} notes'.format(len(nn)))\n",
    "print('This part contains {} notes and rests'.format(len(nr)))"
   ]
  },
  {
   "cell_type": "markdown",
   "metadata": {},
   "source": [
    "Let's search again for perfect fourths using this new approach. However we will need to load the score again. Otherwise, all the notes whose color was changed previously, will continue with their new color."
   ]
  },
  {
   "cell_type": "code",
   "execution_count": null,
   "metadata": {},
   "outputs": [],
   "source": [
    "s = converter.parse('lseh-YiLunMing-WenZhaoGuan-1.xml')\n",
    "p = s.parts[0]\n",
    "nr = p.flat.notesAndRests.stream()\n",
    "\n",
    "p4count = 0\n",
    "\n",
    "for x in nr[:-1]:\n",
    "    if x.isNote and x.next().isNote:      # NOTE: .isNote\n",
    "        itv = interval.Interval(x, x.next())\n",
    "        if itv.name == 'P4':\n",
    "            itv.noteStart.style.color = 'red'\n",
    "            itv.noteEnd.style.color = 'purple'\n",
    "            p4count += 1\n",
    "\n",
    "print('This part contains {} perfect fourths'.format(p4count))\n",
    "\n",
    "nr.show()"
   ]
  },
  {
   "cell_type": "markdown",
   "metadata": {},
   "source": [
    "<br/>"
   ]
  },
  {
   "cell_type": "markdown",
   "metadata": {},
   "source": [
    "Jingu scores have two parts, one vocal and one instrumental. Few of them even have three parts, two vocal parts, and one instrumental part. However, different sources have the vocal part on top, while others have it as the second part. If you work with a collection of scores, you might need to know which part is the vocal one and which one is the instrumental one. A possible way for automatizing this is by searching for the part with lyrics.\n",
    "<br/>\n",
    "This is my way of doing it:"
   ]
  },
  {
   "cell_type": "code",
   "execution_count": null,
   "metadata": {},
   "outputs": [],
   "source": [
    "s = converter.parse('lseh-YiLunMing-WenZhaoGuan-1.xml')\n",
    "\n",
    "vocalParts = []\n",
    "instrumentalPart = []\n",
    "\n",
    "# the basic idea is to search for the part(s) that contains lyrics\n",
    "\n",
    "for p in s.parts:\n",
    "    nn = p.flat.notes.stream() # to look for lyrics, only notes are needed\n",
    "\n",
    "    # sometimes the vocal part starts with grace notes,\n",
    "    # but lyrics are only attached to main notes\n",
    "    # so initial grace notes should be discarded\n",
    "    i = 0 # note index\n",
    "    n = nn[i]\n",
    "    while n.quarterLength == 0:\n",
    "        i += 1\n",
    "        n = nn[i]\n",
    "    if n.lyric != None:\n",
    "        vocalParts.append(p)\n",
    "    else:\n",
    "        instrumentalPart.append(p)\n",
    "\n",
    "print('There is {} vocal part and {} instrumental part'.format(len(vocalParts), len(instrumentalPart)))\n",
    "\n",
    "# vocalParts[0].show()\n",
    "\n",
    "print(vocalParts[0])\n",
    "print(instrumentalPart[0])"
   ]
  },
  {
   "cell_type": "markdown",
   "metadata": {},
   "source": [
    "### Working with makam scores\n",
    "Most of makam scores have non standard key signatures, and this might cause problems."
   ]
  },
  {
   "cell_type": "code",
   "execution_count": null,
   "metadata": {},
   "outputs": [],
   "source": [
    "makamScore = 'hicaz--sarki--aksaksemai--sezdim_dargin--rifat_ayaydin.xml'\n",
    "s = converter.parse(makamScore)"
   ]
  },
  {
   "cell_type": "markdown",
   "metadata": {},
   "source": [
    "Music21 was not developed with makam music in mind, and many of the accidentals used in makam music are not recognized by music21.\n",
    "\n",
    "Looking at the error message, it seems that the problem lies in the so called `nonTraditionalKeySignature`. If this is the problem when loading some of the makam scores with music21, one solution might be to manipulate the MusicXML file to get rid of the key signature.\n",
    "\n",
    "I use the Python module `ElementTree` to find it."
   ]
  },
  {
   "cell_type": "code",
   "execution_count": null,
   "metadata": {},
   "outputs": [],
   "source": [
    "import xml.etree.ElementTree as ET\n",
    "\n",
    "tree = ET.parse(makamScore)\n",
    "root = tree.getroot()        \n",
    "\n",
    "notes = []\n",
    "accidentals = []\n",
    "\n",
    "for k in root.iter('key'):\n",
    "    for ks in k.findall('key-step'):\n",
    "        notes.append(ks.text)\n",
    "    for ka in k.findall('key-accidental'):\n",
    "        accidentals.append(ka.text)\n",
    "\n",
    "print('The key signature of this score has:')\n",
    "for i in range(len(notes)):\n",
    "    print('-', notes[i], accidentals[i])"
   ]
  },
  {
   "cell_type": "markdown",
   "metadata": {},
   "source": [
    "Now I can remove it from the MusicXML file and create a new file without key signature."
   ]
  },
  {
   "cell_type": "code",
   "execution_count": null,
   "metadata": {},
   "outputs": [],
   "source": [
    "for att in root.iter('attributes'):\n",
    "    if att.find('key'):\n",
    "        att.remove(att.find('key'))\n",
    "        \n",
    "newMakamScore = makamScore[:-4] + '--noKeySignature.xml'\n",
    "\n",
    "tree.write(newMakamScore)"
   ]
  },
  {
   "cell_type": "markdown",
   "metadata": {},
   "source": [
    "And now, music21 will load the score"
   ]
  },
  {
   "cell_type": "code",
   "execution_count": null,
   "metadata": {},
   "outputs": [],
   "source": [
    "s = converter.parse(newMakamScore)\n",
    "s.show()"
   ]
  },
  {
   "cell_type": "markdown",
   "metadata": {},
   "source": [
    "If you want to work in a rythm related task, then you are ready to go. However, if you want to work in a pitch related task, you might still need to do some preprocessing step. As mentioned previously, music21 was not developed with makam music in mind, so not all the accidentals used in this music tradition are accepted by music21.\n",
    "\n",
    "Let's see which ones are accepted and which are not."
   ]
  },
  {
   "cell_type": "code",
   "execution_count": null,
   "metadata": {},
   "outputs": [],
   "source": [
    "# these are the names of all the accidentals used in makam scores, as contained in the MusicXML files\n",
    "makamAccidentals = ['double-slash-'flat, 'flat', 'slash-flat', 'quarter-flat', 'quarter-sharp', 'sharp', 'slash-quarter-sharp', 'slash-sharp']\n",
    "\n",
    "# create a stream to contained altered notes\n",
    "makamNotes = stream.Stream()\n",
    "\n",
    "for i in range(len(makamAccidentals)): # create a note per accidental\n",
    "    try:\n",
    "        n = note.Note()\n",
    "        n.pitch.accidental = makamAccidentals[i] # add one accidental from the list\n",
    "        n.addLyric(makamAccidentals[i]) # add the name of the accidental as lyric\n",
    "        n.addLyric(n.pitch.accidental.name) # add the name used by music21 as lyric\n",
    "        n.addLyric(n.pitch.alter, applyRaw=True) # add the number of semitones of the accidental as lyric\n",
    "        makamNotes.append(n)\n",
    "    except:\n",
    "        print(\"music21 doesn't accept {} as accidental\".format(makamAccidentals[i]))\n",
    "\n",
    "makamNotes.show()"
   ]
  },
  {
   "cell_type": "markdown",
   "metadata": {},
   "source": [
    "Interestingly, if loaded from an xml file, the name of the accidentals are kept, but some can be renamed:"
   ]
  },
  {
   "cell_type": "code",
   "execution_count": null,
   "metadata": {},
   "outputs": [],
   "source": [
    "accidentals_xml = []\n",
    "\n",
    "for a in root.iter('accidental'):\n",
    "    if a.text not in accidentals_xml:\n",
    "        accidentals_xml.append(a.text)\n",
    "\n",
    "print('The accidentals contained in the MusicXML file are:')\n",
    "for accidental in sorted(accidentals_xml):\n",
    "    print('-', accidental)"
   ]
  },
  {
   "cell_type": "code",
   "execution_count": null,
   "metadata": {},
   "outputs": [],
   "source": [
    "accidentals_music21 = []\n",
    "\n",
    "# retrieve all the notes from the score\n",
    "nn = s.flat.notes.stream()\n",
    "\n",
    "# search for all the accidental names\n",
    "for n in nn:\n",
    "    if n.pitch.accidental:\n",
    "        if n.pitch.accidental.name not in accidentals_music21:\n",
    "            accidentals_music21.append(n.pitch.accidental.name)\n",
    "            \n",
    "print('The accidentals parsed by music21 are:')\n",
    "for accidental in sorted(accidentals_music21):\n",
    "    print('-', accidental)"
   ]
  },
  {
   "cell_type": "markdown",
   "metadata": {},
   "source": [
    "As you can see, `slash-flat` is a type of accidental that music21 should not accept, but the name is kept when imported from an xml file! Let's look for a note with this accidental, and see its attributes:"
   ]
  },
  {
   "cell_type": "code",
   "execution_count": null,
   "metadata": {},
   "outputs": [],
   "source": [
    "for n in nn:\n",
    "    if n.pitch.accidental and n.pitch.accidental.name == 'slash-flat':\n",
    "        break\n",
    "\n",
    "print('Note name:', n.name)\n",
    "print('Pitch accidental:', n.pitch.accidental.name)\n",
    "print('Alter:', n.pitch.accidental.alter)"
   ]
  },
  {
   "cell_type": "markdown",
   "metadata": {},
   "source": [
    "So, even though the name of the accidental is kept, it has no effect on the pitch. However, knowing the name of the accidental, I can assign to it the value I want using the `.microtone` atribute of the `.pitch` object in the note. I can use that attribute to set a value in cents that modifies the original pitch of the note.\n",
    "\n",
    "Note that the microtone affects the `.pitch` object, and not the `.accidental` object contained in `.pitch`."
   ]
  },
  {
   "cell_type": "code",
   "execution_count": null,
   "metadata": {},
   "outputs": [],
   "source": [
    "# deviation from original pitch of slash-flat in cents\n",
    "tone = 200 # cents\n",
    "slashFlatAlter = -(4 * tone / 9)\n",
    "\n",
    "# assign that deviation to notes with slash-flat\n",
    "for n in nn:\n",
    "    if n.pitch.accidental and n.pitch.accidental.name == 'slash-flat':\n",
    "        n.pitch.microtone = slashFlatAlter"
   ]
  },
  {
   "cell_type": "markdown",
   "metadata": {},
   "source": [
    "Now, let's search again the first note with a slash-flat accidental, and retrieve its attributes. Remember that modified object is `.pitch` and not `.accidental`"
   ]
  },
  {
   "cell_type": "code",
   "execution_count": null,
   "metadata": {},
   "outputs": [],
   "source": [
    "for n in nn:\n",
    "    if n.pitch.accidental and n.pitch.accidental.name == 'slash-flat':\n",
    "        break\n",
    "\n",
    "print('Note name:', n.nameWithOctave)\n",
    "print('Pitch accidental:', n.pitch.accidental.name)\n",
    "print('Alter of the accidental:', n.pitch.accidental.alter)\n",
    "print('Alter of pitch:', n.pitch.microtone.cents)"
   ]
  },
  {
   "cell_type": "markdown",
   "metadata": {},
   "source": [
    "This new alter in pitch affects the intervals created using that note."
   ]
  },
  {
   "cell_type": "code",
   "execution_count": null,
   "metadata": {},
   "outputs": [],
   "source": [
    "for n in nn:\n",
    "    if n.pitch.accidental and n.pitch.accidental.name == 'slash-flat':\n",
    "        itv = interval.Interval(n, n.next())\n",
    "        print('Notes of the interval: {} and {}'.format(n.name, n.next().name))\n",
    "        print('Interval:', itv.name)\n",
    "        print('Cents of the interval:', itv.cents)\n",
    "        break"
   ]
  },
  {
   "cell_type": "markdown",
   "metadata": {},
   "source": [
    "This is just a suggestion about how to deal with pitch in makam scores. The important message to take is that the name of the accidentals are kept, and you can use that to \"alter\" their pitch in the manner you find more useful for your research. You might even want to alter the pitch value of all notes with accidental to adjust it to the characteristics of makam music."
   ]
  },
  {
   "cell_type": "code",
   "execution_count": null,
   "metadata": {},
   "outputs": [],
   "source": []
  }
 ],
 "metadata": {
  "kernelspec": {
   "display_name": "Python 3 (ipykernel)",
   "language": "python",
   "name": "python3"
  },
  "language_info": {
   "codemirror_mode": {
    "name": "ipython",
    "version": 3
   },
   "file_extension": ".py",
   "mimetype": "text/x-python",
   "name": "python",
   "nbconvert_exporter": "python",
   "pygments_lexer": "ipython3",
   "version": "3.7.11"
  }
 },
 "nbformat": 4,
 "nbformat_minor": 2
}
