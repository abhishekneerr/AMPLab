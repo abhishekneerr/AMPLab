{
 "cells": [
  {
   "attachments": {},
   "cell_type": "markdown",
   "metadata": {},
   "source": [
    "## Audio and Music Processing Lab - Module 2\n",
    "### Final assignment: Melodic aspect of Arab Andalusian Music\n",
    "Abhishek, Francesco"
   ]
  },
  {
   "cell_type": "code",
   "execution_count": null,
   "metadata": {},
   "outputs": [],
   "source": [
    "from music21 import *\n",
    "from music21 import analysis\n",
    "\n",
    "import matplotlib.pyplot as plt"
   ]
  },
  {
   "cell_type": "code",
   "execution_count": null,
   "metadata": {},
   "outputs": [],
   "source": [
    "# Nawba 1, 'Btayhi_Isbahan'\n",
    "\n",
    "s1 = converter.parse(\n",
    "    'Btayhi_Isbahan.mxl')\n",
    "\n",
    "scoreParts1 = s1.parts.stream()\n",
    "for element in scoreParts1.elements:\n",
    "    print(element)\n",
    "\n",
    "part1 = scoreParts1[0]\n",
    "# part0.elements\n",
    "measures1 = part1.getElementsByClass(stream.Measure).stream()\n",
    "print('Measures in part 0:', len(measures1))\n",
    "\n",
    "part1_selection = part1.measures(1, 200)\n",
    "pianoroll1 = part1_selection.plot("
   ]
  },
  {
   "cell_type": "code",
   "execution_count": null,
   "metadata": {},
   "outputs": [],
   "source": [
    "# Nawba 2, Btayhi_Istihlal\n",
    "\n",
    "s2 = converter.parse(\n",
    "    'Btayhi_Istihlal.mxl')\n",
    "\n",
    "scoreParts2 = s2.parts.stream()\n",
    "for element in scoreParts2.elements:\n",
    "    print(element)\n",
    "\n",
    "part2 = scoreParts2[0]\n",
    "# part0.elements\n",
    "measures2 = part2.getElementsByClass(stream.Measure).stream()\n",
    "print('Measures in part 0:', len(measures2))\n",
    "\n",
    "part2_selection = part2.measures(1, 200)\n",
    "pianoroll2 = part2_selection.plot('horizontalbar')"
   ]
  },
  {
   "cell_type": "code",
   "execution_count": null,
   "metadata": {},
   "outputs": [],
   "source": [
    "# Nawba 3, Btayhi_Maya\n",
    "\n",
    "s3 = converter.parse(\n",
    "    'Btayhi_Maya.mxl')\n",
    "\n",
    "scoreParts3 = s3.parts.stream()\n",
    "for element in scoreParts3.elements:\n",
    "    print(element)\n",
    "\n",
    "part3 = scoreParts3[0]\n",
    "# part0.elements\n",
    "measures3 = part3.getElementsByClass(stream.Measure).stream()\n",
    "print('Measures in part:', len(measures3))\n",
    "\n",
    "part3_selection = part3.measures(1, 200)\n",
    "scatter3 = part3_selection.plot('scatter', 'pitchClass', 'offset')\n",
    "scatter3.figure.savefig('nawba3_scatter.png')"
   ]
  },
  {
   "cell_type": "code",
   "execution_count": null,
   "metadata": {},
   "outputs": [],
   "source": [
    "s4 = converter.parse(\n",
    "    'Btayhi_Raml_Maya.mxl')\n",
    "\n",
    "scoreParts4 = s4.parts.stream()\n",
    "for element in scoreParts4.elements:\n",
    "    print(element)\n",
    "\n",
    "part4 = scoreParts4[0]\n",
    "# part0.elements\n",
    "measures4 = part4.getElementsByClass(stream.Measure).stream()\n",
    "print('Measures in part 0:', len(measures4))\n",
    "\n",
    "part4_selection = part4.measures(1, 200)\n",
    "scatter4 = part4_selection.plot('scatter', 'pitchClass', 'offset')\n",
    "scatter4.figure.savefig('nawba4_scatter.png')"
   ]
  },
  {
   "cell_type": "code",
   "execution_count": null,
   "metadata": {},
   "outputs": [],
   "source": [
    "s5 = converter.parse(\n",
    "    'Btayhi_Rasd_Dayl.mxl')\n",
    "\n",
    "scoreParts5 = s5.parts.stream()\n",
    "for element in scoreParts5.elements:\n",
    "    print(element)\n",
    "\n",
    "part5 = scoreParts5[0]\n",
    "# part0.elements\n",
    "measures5 = part5.getElementsByClass(stream.Measure).stream()\n",
    "print('Measures in part 0:', len(measures5))\n",
    "\n",
    "part5_selection = part5.measures(1, 200)\n",
    "scatter5 = part5_selection.plot('scatter', 'pitchClass', 'offset')\n",
    "scatter5.figure.savefig('nawba5_scatter.png')"
   ]
  }
 ],
 "metadata": {
  "kernelspec": {
   "display_name": ".venv",
   "language": "python",
   "name": "python3"
  },
  "language_info": {
   "codemirror_mode": {
    "name": "ipython",
    "version": 3
   },
   "file_extension": ".py",
   "mimetype": "text/x-python",
   "name": "python",
   "nbconvert_exporter": "python",
   "pygments_lexer": "ipython3",
   "version": "3.10.10"
  },
  "orig_nbformat": 4
 },
 "nbformat": 4,
 "nbformat_minor": 2
}
