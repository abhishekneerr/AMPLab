{
 "cells": [
  {
   "cell_type": "markdown",
   "metadata": {},
   "source": [
    "<b>Audio and Music Processing Lab - Module 2</b><br>Rafael Caro Repetto<br>rafael.caro@upf.edu<br>08.02.2023\n",
    "## AMPLab2 - Introduction to music21\n",
    "This notebook demonstrates the basic functionalities of music21 for processing machine readable music scores."
   ]
  },
  {
   "cell_type": "code",
   "execution_count": null,
   "metadata": {},
   "outputs": [],
   "source": [
    "from music21 import *"
   ]
  },
  {
   "cell_type": "markdown",
   "metadata": {},
   "source": [
    "In order to visualize loaded scores using the `.show()` method, a score editor should be installed and added to [music21's user environment](http://web.mit.edu/music21/doc/usersGuide/usersGuide_24_environment.html#usersguide-24-environment). If you have no such software already installed, I strongly recommend the open source program [MuseScore](https://musescore.org/). From now on, I will be mentioning MuseScore, but you should understand your own score editor.\n",
    "\n",
    "If the score editor was installed before installing music21, it should be automatically recognized. Otherwise, you should uncomment and run the following cell in order to add it to music21 user settings:"
   ]
  },
  {
   "cell_type": "code",
   "execution_count": null,
   "metadata": {},
   "outputs": [],
   "source": [
    "# configure.run()"
   ]
  },
  {
   "cell_type": "markdown",
   "metadata": {},
   "source": [
    "Let's load a music score. Music21 will load it as a `stream.Score`. We can give it a look using `.show()`."
   ]
  },
  {
   "cell_type": "code",
   "execution_count": null,
   "metadata": {},
   "outputs": [],
   "source": [
    "s = converter.parse('lseh-WeiGuoJia-HongYangDong-1.xml')\n",
    "print(type(s))\n",
    "s.show()"
   ]
  },
  {
   "cell_type": "markdown",
   "metadata": {},
   "source": [
    "The `.elements` attribute returns a list of all the objects contained in a music21 stream."
   ]
  },
  {
   "cell_type": "code",
   "execution_count": null,
   "metadata": {},
   "outputs": [],
   "source": [
    "print('This score contains these {} elements'.format(len(s.elements)))\n",
    "for element in s.elements:\n",
    "    print('-', element)"
   ]
  },
  {
   "cell_type": "markdown",
   "metadata": {},
   "source": [
    "As you can see, a `stream.Score` contains more than music. If we want to focus on the music, we can call the `.parts` attribute.\n",
    "<br/>\n",
    "By the way, music21 will work better if you store anything you retrieve from a stream in another stream, using the `.stream()` method."
   ]
  },
  {
   "cell_type": "code",
   "execution_count": null,
   "metadata": {},
   "outputs": [],
   "source": [
    "scoreParts = s.parts.stream()\n",
    "for element in scoreParts.elements:\n",
    "    print(element)"
   ]
  },
  {
   "cell_type": "markdown",
   "metadata": {},
   "source": [
    "Now we can work with each of these parts, and have a look at them separately. We can call the `.show()` method with any stream.\n",
    "<br/>\n",
    "*\\[When the part is opened in the score editor, notice that now all the metadata are missing, because they are not contained in the `stream.Part`, but as specific objects in the `stream.Score`.\\]*"
   ]
  },
  {
   "cell_type": "code",
   "execution_count": null,
   "metadata": {},
   "outputs": [],
   "source": [
    "part0 = scoreParts[0]\n",
    "part1 = scoreParts[1]\n",
    "\n",
    "part0.show()"
   ]
  },
  {
   "cell_type": "markdown",
   "metadata": {},
   "source": [
    "These two parts should be equally long, but are they?"
   ]
  },
  {
   "cell_type": "code",
   "execution_count": null,
   "metadata": {},
   "outputs": [],
   "source": [
    "print('Elements in part 0:', len(part0.elements))\n",
    "print('Elements in part 1:', len(part1.elements))"
   ]
  },
  {
   "cell_type": "markdown",
   "metadata": {},
   "source": [
    "To understand this difference, let's have a look to what is contained in each part."
   ]
  },
  {
   "cell_type": "code",
   "execution_count": null,
   "metadata": {},
   "outputs": [],
   "source": [
    "part0.elements"
   ]
  },
  {
   "cell_type": "code",
   "execution_count": null,
   "metadata": {},
   "outputs": [],
   "source": [
    "part1.elements"
   ]
  },
  {
   "cell_type": "markdown",
   "metadata": {},
   "source": [
    "As you can see, each part contains one instrument object, many slur objects, and many measure objects. The music is contained in the measures, so let's retrieve only those, by using the `.getElementsByClass()` method.\n",
    "<br/>\n",
    "Remember to store everything you retrieve from a stream in another stream."
   ]
  },
  {
   "cell_type": "code",
   "execution_count": null,
   "metadata": {},
   "outputs": [],
   "source": [
    "measures0 = part0.getElementsByClass(stream.Measure).stream()\n",
    "measures1 = part1.getElementsByClass(stream.Measure).stream()\n",
    "print('Measures in part 0:', len(measures0))\n",
    "print('Measures in part 1:', len(measures1))"
   ]
  },
  {
   "cell_type": "markdown",
   "metadata": {},
   "source": [
    "Let's confirm that we retrieved only measures."
   ]
  },
  {
   "cell_type": "code",
   "execution_count": null,
   "metadata": {},
   "outputs": [],
   "source": [
    "measures0.elements"
   ]
  },
  {
   "cell_type": "markdown",
   "metadata": {},
   "source": [
    "As you can see, each measure is identifid by a number, and also an offset. The concept of **offset** is very important in music21. Every music21 object is stored in a particular position with respect to its containing stream.\n",
    "<br/>\n",
    "Let's check that with the first 10 measures, accessing the `.number` and `.offset` attributes in the measures."
   ]
  },
  {
   "cell_type": "code",
   "execution_count": null,
   "metadata": {},
   "outputs": [],
   "source": [
    "for m in measures0[0:10]:\n",
    "    print('Measure number: {}\\tMeasure offset: {}'.format(m.number, m.offset))"
   ]
  },
  {
   "cell_type": "markdown",
   "metadata": {},
   "source": [
    "Now let's have a look to what is contained in the first measure of the first part."
   ]
  },
  {
   "cell_type": "code",
   "execution_count": null,
   "metadata": {},
   "outputs": [],
   "source": [
    "measure0_0 = measures0[0]\n",
    "measure0_0.elements"
   ]
  },
  {
   "cell_type": "markdown",
   "metadata": {},
   "source": [
    "The first measure of a part usually contains the clef, key signature and time signature objects.\n",
    "<br/>\n",
    "Let's have a look to what kind of information we can obtain about the key signature and the time signature."
   ]
  },
  {
   "cell_type": "code",
   "execution_count": null,
   "metadata": {},
   "outputs": [],
   "source": [
    "kS = measure0_0.getElementsByClass(key.KeySignature).stream()[0]\n",
    "print('Class:', type(kS))\n",
    "print('Number of altered pitches:', kS.sharps)\n",
    "print('List of altered pitches:', kS.alteredPitches)\n",
    "print('Measure number:', kS.measureNumber)\n",
    "print('Offset:', kS.offset)"
   ]
  },
  {
   "cell_type": "code",
   "execution_count": null,
   "metadata": {},
   "outputs": [],
   "source": [
    "tS = measure0_0.getElementsByClass(meter.TimeSignature).stream()[0]\n",
    "print('Class:', type(tS))\n",
    "print('Numerator:', tS.numerator)\n",
    "print('Denominator:', tS.denominator)\n",
    "print('Measure number:', tS.measureNumber)\n",
    "print('Offset:', tS.offset)"
   ]
  },
  {
   "cell_type": "markdown",
   "metadata": {},
   "source": [
    "Moving to another measure."
   ]
  },
  {
   "cell_type": "code",
   "execution_count": null,
   "metadata": {},
   "outputs": [],
   "source": [
    "measure0_3 = part0.measure(3)\n",
    "print('Measure number {} in offset {}'.format(measure0_3.number, measure0_3.offset))\n",
    "print()\n",
    "print('It contains the following elements:')\n",
    "for element in measure0_3.elements:\n",
    "    print(element)"
   ]
  },
  {
   "cell_type": "markdown",
   "metadata": {},
   "source": [
    "This is the most common case, measures usually contain just notes (including rests).\n",
    "\n",
    "Now, let's start working with note objects. They also have offsets, and we can check if they are a note or a rest."
   ]
  },
  {
   "cell_type": "code",
   "execution_count": null,
   "metadata": {},
   "outputs": [],
   "source": [
    "n1 = measure0_3[0]\n",
    "print('Class', type(n1))\n",
    "print('Measure number:', n1.measureNumber)\n",
    "print('Note offset:', n1.offset)\n",
    "print('Is it a note?', n1.isNote)\n",
    "print('Is it a rest?', n1.isRest)"
   ]
  },
  {
   "cell_type": "markdown",
   "metadata": {},
   "source": [
    "Notice that the note's offset is related to its containing stream, measure 3, and not to the whole score.\n",
    "\n",
    "A note object, when it is a note, contains a pitch object and a duration object.\n",
    "<br/>\n",
    "Let's have a look first to the attributes of the pitch object contained in `n1`."
   ]
  },
  {
   "cell_type": "code",
   "execution_count": null,
   "metadata": {},
   "outputs": [],
   "source": [
    "print('Frequency:', n1.pitch.frequency)\n",
    "print('Name:', n1.pitch.name)\n",
    "print('Step:', n1.pitch.step)\n",
    "print('Octave:', n1.pitch.octave)\n",
    "print('Name with octave:', n1.pitch.nameWithOctave)\n",
    "print('Midi:', n1.pitch.midi)\n",
    "print('Name in Spanish:', n1.pitch.spanish)\n",
    "print()\n",
    "print('Accidental:', n1.pitch.accidental.name)\n",
    "print('Accidental value:', n1.pitch.accidental.alter)"
   ]
  },
  {
   "cell_type": "markdown",
   "metadata": {},
   "source": [
    "Let's have a look now to the attributes of the duration object contained in `n1`."
   ]
  },
  {
   "cell_type": "code",
   "execution_count": null,
   "metadata": {},
   "outputs": [],
   "source": [
    "print('Duration type:', n1.duration.type)\n",
    "print('Duration name:', n1.duration.fullName)\n",
    "print('Duration as quarter length:', n1.duration.quarterLength)"
   ]
  },
  {
   "cell_type": "markdown",
   "metadata": {},
   "source": [
    "Some of this information is very commonly used, so it can be retrieved directly from the note object."
   ]
  },
  {
   "cell_type": "code",
   "execution_count": null,
   "metadata": {},
   "outputs": [],
   "source": [
    "print('Name:', n1.name)\n",
    "print('Step:', n1.step)\n",
    "print('Octave:', n1.octave)\n",
    "print('Name with octave:', n1.nameWithOctave)\n",
    "print()\n",
    "print('Duration as quarter length:', n1.quarterLength)"
   ]
  },
  {
   "cell_type": "markdown",
   "metadata": {},
   "source": [
    "[Grace notes](https://en.wikipedia.org/wiki/Grace_note) are assigned a `quarterLength` duration of 0, and are located in the same offset as the following main note."
   ]
  },
  {
   "cell_type": "code",
   "execution_count": null,
   "metadata": {},
   "outputs": [],
   "source": [
    "n2 = measure0_3[1]\n",
    "n3 = measure0_3[2]\n",
    "print('Name:\\t\\t{}\\t{}'.format(n2.nameWithOctave, n3.nameWithOctave))\n",
    "print('Duration:\\t{}\\t{}'.format(n2.quarterLength, n3.quarterLength))\n",
    "print('Offset:\\t\\t{}\\t{}'.format(n2.offset, n3.offset))"
   ]
  },
  {
   "cell_type": "markdown",
   "metadata": {},
   "source": [
    "Let's take now a note from the second part."
   ]
  },
  {
   "cell_type": "code",
   "execution_count": null,
   "metadata": {},
   "outputs": [],
   "source": [
    "measure1_9 = part1.measure(9)\n",
    "n4 = measure1_9[0]\n",
    "print('Name:', n4.nameWithOctave)\n",
    "print('Duration:', n4.quarterLength)"
   ]
  },
  {
   "cell_type": "markdown",
   "metadata": {},
   "source": [
    "With the `.lyric` attribute we can check if a note object contains lyrics."
   ]
  },
  {
   "cell_type": "code",
   "execution_count": null,
   "metadata": {},
   "outputs": [],
   "source": [
    "print('Does n1 have lyrics?', n1.lyric != None)\n",
    "print('Does n4 have lyrics?', n4.lyric != None)"
   ]
  },
  {
   "cell_type": "markdown",
   "metadata": {},
   "source": [
    "`n4` contains lyrics. Now we can look at it."
   ]
  },
  {
   "cell_type": "code",
   "execution_count": null,
   "metadata": {},
   "outputs": [],
   "source": [
    "print(\"n4's lyric:\", n4.lyric)"
   ]
  },
  {
   "cell_type": "markdown",
   "metadata": {},
   "source": [
    "Duration can be extended using dots and ties. Music21 handels them in the following ways."
   ]
  },
  {
   "cell_type": "code",
   "execution_count": null,
   "metadata": {},
   "outputs": [],
   "source": [
    "n5 = measure1_9[1]\n",
    "print('Duration:', n5.quarterLength)\n",
    "print('Duration type:', n5.duration.type)\n",
    "print('Duration name:', n5.duration.fullName)\n",
    "print('Duration as quarter length:', n5.duration.quarterLength)\n",
    "print('Dots:', n5.duration.dots)"
   ]
  },
  {
   "cell_type": "code",
   "execution_count": null,
   "metadata": {},
   "outputs": [],
   "source": [
    "measure1_20 = part1.measure(20)\n",
    "measure1_21 = part1.measure(21)\n",
    "n6 = measure1_20[-1]\n",
    "n7 = measure1_21[2]\n",
    "print('Pitch name:\\t{}\\t{}'.format(n6.nameWithOctave, n7.nameWithOctave))\n",
    "print('Duration:\\t{}\\t{}'.format(n6.quarterLength, n7.quarterLength))\n",
    "print('Tie:\\t\\t{}\\t{}'.format(n6.tie.type, n7.tie.type))"
   ]
  },
  {
   "cell_type": "code",
   "execution_count": null,
   "metadata": {},
   "outputs": [],
   "source": []
  }
 ],
 "metadata": {
  "kernelspec": {
   "display_name": "Python 3 (ipykernel)",
   "language": "python",
   "name": "python3"
  },
  "language_info": {
   "codemirror_mode": {
    "name": "ipython",
    "version": 3
   },
   "file_extension": ".py",
   "mimetype": "text/x-python",
   "name": "python",
   "nbconvert_exporter": "python",
   "pygments_lexer": "ipython3",
   "version": "3.7.11"
  }
 },
 "nbformat": 4,
 "nbformat_minor": 2
}
