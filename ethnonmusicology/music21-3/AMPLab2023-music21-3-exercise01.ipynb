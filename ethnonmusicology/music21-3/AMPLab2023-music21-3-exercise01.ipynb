{
 "cells": [
  {
   "cell_type": "markdown",
   "metadata": {},
   "source": [
    "<b>Audio and Music Processing Lab - Module 2</b><br>Rafael Caro Repetto<br>rafael.caro@upf.edu<br>15.02.2023\n",
    "## AMPLab2 - Introduction to music21 (3)\n",
    "### Exercise 1\n",
    "Q. **How is instrumental accompaniment related to the vocal melody in jingju?**\n",
    "\n",
    "M. *Plot a bar chart with the number of intervals formed between each note in the accompaniment and the corresponding one in the vocal melody*"
   ]
  },
  {
   "cell_type": "markdown",
   "metadata": {},
   "source": [
    "### Test the proposed method with a single score"
   ]
  },
  {
   "cell_type": "code",
   "execution_count": null,
   "metadata": {},
   "outputs": [],
   "source": [
    "from music21 import *\n",
    "import matplotlib.pyplot as plt\n",
    "import os\n",
    "\n",
    "datasetPath = './Jingju Scores Dataset/MusicXML'# Path to the folder that contains the MusicXML scores"
   ]
  },
  {
   "cell_type": "markdown",
   "metadata": {},
   "source": [
    "Since the idea is to count the intervals formed by the notes in the instrumental part with the notes at the vocal part, let's first extract all the notes from each part"
   ]
  },
  {
   "cell_type": "code",
   "execution_count": null,
   "metadata": {},
   "outputs": [],
   "source": [
    "s = converter.parse(os.path.join(datasetPath, 'lseh-YiLunMing-WenZhaoGuan-1.xml'))\n",
    "\n",
    "pi = s.parts[1] # Instrumental part\n",
    "pv = s.parts[0] # Vocal part\n",
    "\n",
    "ni = pi.flat.notes.stream() # All notes from the instrumental part\n",
    "nv = pv.flat.notes.stream() # All notes for the vocal part"
   ]
  },
  {
   "cell_type": "markdown",
   "metadata": {},
   "source": [
    "Then, let's count all the intervals in a dictionary. The intervals are formed by each note of the instrumental accompaniment and the one that is *sounding* at the same time (that is, at the same offset) in the vocal part, which might start at the same offset of the instrumental note, or can be sounding from before."
   ]
  },
  {
   "cell_type": "code",
   "execution_count": null,
   "metadata": {},
   "outputs": [],
   "source": [
    "intervals = {}\n",
    "\n",
    "for n1 in ni:\n",
    "    if not n1.duration.isGrace: # Skip grace notes\n",
    "        o = n1.offset\n",
    "        # Retrieve the notes in the vocal part that occur at the instrumental note's offset.\n",
    "        # The mustBeginInSpan=False parameter allows retrieving notes that started before that\n",
    "        # offset are still sounding at that position.\n",
    "        # The result is a stream, which might contain more than one note in case there are\n",
    "        # grace notes, which share the offset with the main note.\n",
    "        nStr = nv.getElementsByOffset(o, mustBeginInSpan=False).stream()\n",
    "        for n2 in nStr:\n",
    "            if not n2.duration.isGrace: # Skip grace notes\n",
    "                itv = interval.Interval(n1, n2)\n",
    "                intervals[itv.name] = intervals.get(itv.name, 0) + 1"
   ]
  },
  {
   "cell_type": "code",
   "execution_count": null,
   "metadata": {},
   "outputs": [],
   "source": [
    "intervals"
   ]
  },
  {
   "cell_type": "markdown",
   "metadata": {},
   "source": [
    "In order to display a meaningful bar chart, order the intervals according to its size in semitones."
   ]
  },
  {
   "cell_type": "code",
   "execution_count": null,
   "metadata": {},
   "outputs": [],
   "source": [
    "# Create a dictionary with the equivalence of each interval's size in semitones and its name.\n",
    "intervalsOrder = {}\n",
    "for k in intervals.keys():\n",
    "    itv = interval.Interval(k)\n",
    "    intervalsOrder[itv.semitones] = k\n",
    "    \n",
    "# Ordered list of intervals by semitones size\n",
    "xValues = sorted(intervalsOrder.keys())\n",
    "# Oredred list of interval names by their semitiones size to be use as ticks for the x axis.\n",
    "xTicks = [intervalsOrder[i] for i in xValues]\n",
    "# Ordered list of y axis values\n",
    "yValues = [intervals[i] for i in xTicks]"
   ]
  },
  {
   "cell_type": "markdown",
   "metadata": {},
   "source": [
    "Plot the bar chart."
   ]
  },
  {
   "cell_type": "code",
   "execution_count": null,
   "metadata": {},
   "outputs": [],
   "source": [
    "plt.bar(xValues, yValues)\n",
    "plt.xticks(xValues, xTicks)\n",
    "plt.show()"
   ]
  },
  {
   "cell_type": "markdown",
   "metadata": {},
   "source": [
    "### Apply the method to the whole dataset"
   ]
  },
  {
   "cell_type": "markdown",
   "metadata": {},
   "source": [
    "Count intervals from the whole dataset"
   ]
  },
  {
   "cell_type": "code",
   "execution_count": null,
   "metadata": {},
   "outputs": [],
   "source": [
    "intervals = {}\n",
    "\n",
    "allScores = os.listdir(datasetPath)\n",
    "\n",
    "for score in allScores:\n",
    "    print('Parsing', score)\n",
    "    s = converter.parse(os.path.join(datasetPath, score))\n",
    "    \n",
    "    ### Find out which parts are vocal and which instrumental\n",
    "    \n",
    "    vocalParts = [] # some scores have two vocal parts\n",
    "    \n",
    "    for p in s.parts:\n",
    "        nn = p.flat.notes.stream() # to look for lyrics, only notes are needed\n",
    "        if len(nn) > 0: # there are few scores with an empty part\n",
    "            i = 0\n",
    "            n = nn[i]\n",
    "            # sometimes the vocal part starts with grace notes,\n",
    "            # but lyrics are only attached to main notes\n",
    "            while n.quarterLength == 0:\n",
    "                i += 1\n",
    "                n = nn[i]\n",
    "            if n.lyric:\n",
    "                vocalParts.append(p)\n",
    "            else:\n",
    "                pi = p\n",
    "\n",
    "    ni = pi.flat.notes.stream() # All notes from the instrumental part\n",
    "    \n",
    "    for pv in vocalParts:\n",
    "        nv = pv.flat.notes.stream() # All notes for the vocal part\n",
    "        for n1 in ni:\n",
    "            if n1.quarterLength > 0: # Skip grace notes\n",
    "                o = n1.offset\n",
    "                nStr = nv.getElementsByOffset(o, mustBeginInSpan=False).stream()\n",
    "                for n2 in nStr:\n",
    "                    if n2.quarterLength > 0: # Skip grace notes\n",
    "                        itv = interval.Interval(n1, n2)\n",
    "                        intervals[itv.name] = intervals.get(itv.name, 0) + 1\n",
    "\n",
    "print('\\nDone!')"
   ]
  },
  {
   "cell_type": "markdown",
   "metadata": {},
   "source": [
    "Order the intervals by semitones and plot the histogram"
   ]
  },
  {
   "cell_type": "code",
   "execution_count": null,
   "metadata": {},
   "outputs": [],
   "source": [
    "intervalsOrder = {}\n",
    "for k in intervals.keys():\n",
    "    itv = interval.Interval(k)\n",
    "    intervalsOrder[itv.semitones] = k\n",
    "    \n",
    "xValues = sorted(intervalsOrder.keys())\n",
    "xTicks = [intervalsOrder[i] for i in xValues]\n",
    "yValues = [intervals[i] for i in xTicks]\n",
    "\n",
    "plt.figure(figsize=(16,6))\n",
    "plt.bar(xValues, yValues)\n",
    "plt.xticks(xValues, xTicks)\n",
    "plt.show()"
   ]
  },
  {
   "cell_type": "code",
   "execution_count": null,
   "metadata": {},
   "outputs": [],
   "source": []
  }
 ],
 "metadata": {
  "kernelspec": {
   "display_name": "Python 3 (ipykernel)",
   "language": "python",
   "name": "python3"
  },
  "language_info": {
   "codemirror_mode": {
    "name": "ipython",
    "version": 3
   },
   "file_extension": ".py",
   "mimetype": "text/x-python",
   "name": "python",
   "nbconvert_exporter": "python",
   "pygments_lexer": "ipython3",
   "version": "3.7.11"
  }
 },
 "nbformat": 4,
 "nbformat_minor": 2
}
