{
 "cells": [
  {
   "cell_type": "markdown",
   "metadata": {},
   "source": [
    "<b>Audio and Music Processing Lab - Module 2</b><br>Rafael Caro Repetto<br>rafael.caro@upf.edu<br>09.02.2022\n",
    "## AMPLab2 - Introduction to music21 (3)\n",
    "### Exercise 2\n",
    "Q. **How is the _usul aksaksemai_ realized in melodic surface?**\n",
    "\n",
    "![usul aksaksemai strokes](aksaksemai.png)\n",
    "\n",
    "M. *Plot a bar chart with the number of notes that start at each beat of the* usul *(measure) from all the scores in the corpus which contain this* usul."
   ]
  },
  {
   "cell_type": "code",
   "execution_count": null,
   "metadata": {},
   "outputs": [],
   "source": [
    "from music21 import *\n",
    "import xml.etree.ElementTree as ET\n",
    "import os\n",
    "import matplotlib.pyplot as plt"
   ]
  },
  {
   "cell_type": "markdown",
   "metadata": {},
   "source": [
    "The naming convention of the xml files in the SymbTr collection is as follows:\n",
    "\n",
    "`makam--form--usul--lyrics--composer.xml`\n",
    "\n",
    "First retrieve all the xml files that contains the *aksaksemai usul*."
   ]
  },
  {
   "cell_type": "code",
   "execution_count": null,
   "metadata": {},
   "outputs": [],
   "source": [
    "datasetPath = './SymbTr-2.4.3/MusicXML/'# Path to the folder that contains the MusicXML scores\n",
    "\n",
    "allScores = os.listdir(datasetPath)\n",
    "\n",
    "aksaksemaiScores = []\n",
    "\n",
    "for score in allScores:\n",
    "    if score.split('--')[2] == 'aksaksemai':\n",
    "        aksaksemaiScores.append(score)\n",
    "        \n",
    "print('Found {} scores with aksaksemai usul'.format(len(aksaksemaiScores)))"
   ]
  },
  {
   "cell_type": "markdown",
   "metadata": {},
   "source": [
    "Count how many notes start in each beat of the measure. For that, the `.beat` attribute can be called for each note. To load the xml scores in music21, the key signature in the xml file should be previously removed to avoid errors."
   ]
  },
  {
   "cell_type": "code",
   "execution_count": null,
   "metadata": {},
   "outputs": [],
   "source": [
    "beatsDic = {}\n",
    "\n",
    "# Create a folder to contain the xml scores without key signature\n",
    "newFolder = os.path.join(datasetPath, 'aksaksemaiScores')\n",
    "os.mkdir(newFolder)\n",
    "\n",
    "for makamScore in aksaksemaiScores:\n",
    "    print(aksaksemaiScores.index(makamScore)+1, '- Processing', makamScore)\n",
    "    \n",
    "    # Remove the key signature from the xml file\n",
    "    tree = ET.parse(os.path.join(datasetPath, makamScore))\n",
    "    root = tree.getroot()\n",
    "    \n",
    "    for att in root.iter('attributes'):\n",
    "        if att.find('key'):\n",
    "            att.remove(att.find('key'))\n",
    "    \n",
    "    # Save the new xml files to be later loaded with music21\n",
    "    newMakamScore = os.path.join(newFolder, makamScore[:-4] + '_noKeySignature.xml')\n",
    "    tree.write(newMakamScore)\n",
    "    \n",
    "    # Load the file in music21 and get a stream with all the notes\n",
    "    s = converter.parse(newMakamScore)\n",
    "    nn = s.parts.flat.notes.stream()\n",
    "    \n",
    "    # Count the notes per beat\n",
    "    for n in nn:\n",
    "        beatsDic[n.beat] = beatsDic.get(n.beat, 0) + 1 # Use the .beat attibute\n",
    "\n",
    "print('\\nDone!')"
   ]
  },
  {
   "cell_type": "code",
   "execution_count": null,
   "metadata": {},
   "outputs": [],
   "source": [
    "beatsDic"
   ]
  },
  {
   "cell_type": "markdown",
   "metadata": {},
   "source": [
    "Plot the bar chart."
   ]
  },
  {
   "cell_type": "code",
   "execution_count": null,
   "metadata": {},
   "outputs": [],
   "source": [
    "# Order the beats\n",
    "xValues = sorted(beatsDic.keys())\n",
    "yValues = [beatsDic[x] for x in xValues]\n",
    "\n",
    "# These are the beats where notes are played according to theory\n",
    "aksaksemaiBeats = [1, 4, 6, 8]\n",
    "\n",
    "\n",
    "plt.figure(figsize=(12, 6))\n",
    "plt.bar(xValues, yValues, width=0.2)\n",
    "# Draw a vertical red line to better compare the results with theory\n",
    "for beat in aksaksemaiBeats:\n",
    "    plt.axvline(beat, color='red')\n",
    "plt.xticks(range(1, 11))\n",
    "plt.show()"
   ]
  },
  {
   "cell_type": "markdown",
   "metadata": {},
   "source": [
    "![usul aksaksemai strokes](aksaksemai.png)"
   ]
  },
  {
   "cell_type": "code",
   "execution_count": null,
   "metadata": {},
   "outputs": [],
   "source": []
  }
 ],
 "metadata": {
  "kernelspec": {
   "display_name": "Python 3 (ipykernel)",
   "language": "python",
   "name": "python3"
  },
  "language_info": {
   "codemirror_mode": {
    "name": "ipython",
    "version": 3
   },
   "file_extension": ".py",
   "mimetype": "text/x-python",
   "name": "python",
   "nbconvert_exporter": "python",
   "pygments_lexer": "ipython3",
   "version": "3.7.11"
  }
 },
 "nbformat": 4,
 "nbformat_minor": 2
}
