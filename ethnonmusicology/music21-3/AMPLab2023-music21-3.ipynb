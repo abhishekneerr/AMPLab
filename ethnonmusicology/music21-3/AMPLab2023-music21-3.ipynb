{
 "cells": [
  {
   "cell_type": "markdown",
   "metadata": {},
   "source": [
    "<b>Audio and Music Processing Lab - Module 2</b><br>Rafael Caro Repetto<br>rafael.caro@upf.edu<br>15.02.2023\n",
    "## AMPLab2 - Introduction to music21 (3)\n",
    "This notebook presents two new functionalites of music21."
   ]
  },
  {
   "cell_type": "code",
   "execution_count": null,
   "metadata": {},
   "outputs": [],
   "source": [
    "from music21 import *"
   ]
  },
  {
   "cell_type": "markdown",
   "metadata": {},
   "source": [
    "### Retrieving elements by offset"
   ]
  },
  {
   "cell_type": "markdown",
   "metadata": {},
   "source": [
    "Let's load a score and retrieve its vocal and instrumental parts"
   ]
  },
  {
   "cell_type": "code",
   "execution_count": null,
   "metadata": {},
   "outputs": [],
   "source": [
    "s = converter.parse('lseh-YiLunMing-WenZhaoGuan-1.xml')\n",
    "pv = s.parts[0] # Vocal part\n",
    "pi = s.parts[1] # Instrumental part"
   ]
  },
  {
   "cell_type": "markdown",
   "metadata": {},
   "source": [
    "Now, let's retrieve just the melodic phrase used for singing the lyrics \"窗前.\"\n",
    "<br/>\n",
    "In order to do that, let's find the offsets of the first and last notes sung in that melodic phrase. Note that the second character (\"前.\") is sung with many notes. So, in order to retrieve all the notes used for singing that character, we can find the offset of the previous note to the next sung lyric (\"愁\")."
   ]
  },
  {
   "cell_type": "code",
   "execution_count": null,
   "metadata": {},
   "outputs": [],
   "source": [
    "a = '窗'\n",
    "b = '愁' \n",
    "phraseBoundaries = {}\n",
    "nn = pv.flat.notes.stream()\n",
    "for n in nn:\n",
    "    if n.lyric:\n",
    "        if n.lyric == a:\n",
    "            phraseBoundaries['start'] = n.offset # NOTE: .offset\n",
    "        elif n.lyric == b:\n",
    "            phraseBoundaries['end'] = n.previous().offset\n",
    "\n",
    "print('Start offset:', phraseBoundaries['start'])\n",
    "print('End offset:', phraseBoundaries['end'])"
   ]
  },
  {
   "cell_type": "markdown",
   "metadata": {},
   "source": [
    "The method `.getElementsByOffset()` is thought for retrieving elements according to their offsets. If just one offset is input, it retrieves the element(s) at that offset."
   ]
  },
  {
   "cell_type": "code",
   "execution_count": null,
   "metadata": {},
   "outputs": [],
   "source": [
    "section = nn.getElementsByOffset(73).stream() # NOTE: .getElementsByOffset with one argument\n",
    "print(section.elements)\n",
    "firstNote = section[0]\n",
    "print('This note is {} with lyric {}'.format(firstNote.nameWithOctave, firstNote.lyric))"
   ]
  },
  {
   "cell_type": "code",
   "execution_count": null,
   "metadata": {},
   "outputs": [],
   "source": [
    "section = nn.getElementsByOffset(94).stream()\n",
    "print(section.elements)\n",
    "firstNote = section[0]\n",
    "print('This note is {} with lyric {}'.format(firstNote.nameWithOctave, firstNote.lyric))"
   ]
  },
  {
   "cell_type": "markdown",
   "metadata": {},
   "source": [
    "If two offsets are input to the `.getElementsByOffset()` method, all the elements between those two offsets are retrieved."
   ]
  },
  {
   "cell_type": "code",
   "execution_count": null,
   "metadata": {},
   "outputs": [],
   "source": [
    "section = nn.getElementsByOffset(73, 94).stream() # NOTE: .getElementsByOffset with two argument\n",
    "section.show()"
   ]
  },
  {
   "cell_type": "markdown",
   "metadata": {},
   "source": [
    "Since we retrieved notes from the stream `nn` we created, and the start offset is 73, extra measures are created to fill the gap until that offset.\n",
    "<br/>\n",
    "To avoid that, we can instead retrieve measures from the part stream `pv`."
   ]
  },
  {
   "cell_type": "code",
   "execution_count": null,
   "metadata": {},
   "outputs": [],
   "source": [
    "section = pv.getElementsByOffset(phraseBoundaries['start'], phraseBoundaries['end']).stream()\n",
    "section.show()"
   ]
  },
  {
   "cell_type": "markdown",
   "metadata": {},
   "source": [
    "Now we didn't get the extra measures, but we are missing the first one of our melodic phrase. Why is that?\n",
    "<br/>\n",
    "Let's check the documentation for the `.getElementsByOffset()` method."
   ]
  },
  {
   "cell_type": "code",
   "execution_count": null,
   "metadata": {},
   "outputs": [],
   "source": [
    "pv.getElementsByOffset?"
   ]
  },
  {
   "cell_type": "markdown",
   "metadata": {},
   "source": [
    "It seems that we need to set the `mustBeginInSpan` parameter to `False`."
   ]
  },
  {
   "cell_type": "code",
   "execution_count": null,
   "metadata": {},
   "outputs": [],
   "source": [
    "section = pv.getElementsByOffset(phraseBoundaries['start'], phraseBoundaries['end'], mustBeginInSpan=False).stream()\n",
    "section.show()"
   ]
  },
  {
   "cell_type": "markdown",
   "metadata": {},
   "source": [
    "### Analytical tools"
   ]
  },
  {
   "cell_type": "markdown",
   "metadata": {},
   "source": [
    "Music21 brings many analytical tools, that can be found in its [documentation](https://web.mit.edu/music21/doc/usersGuide/usersGuide_22_graphing.html). However, you should understand them well in order to know what they really represent.\n",
    "\n",
    "Let's create a simple score using `tinyNotation`."
   ]
  },
  {
   "cell_type": "code",
   "execution_count": null,
   "metadata": {},
   "outputs": [],
   "source": [
    "s = converter.parse('tinyNotation: G16 G G G c1')\n",
    "s.show()"
   ]
  },
  {
   "cell_type": "markdown",
   "metadata": {},
   "source": [
    "Now, let's use music21 analytical tools to create a pitch histogram. It's as simple as this:"
   ]
  },
  {
   "cell_type": "code",
   "execution_count": null,
   "metadata": {},
   "outputs": [],
   "source": [
    "s.plot('histogram', 'pitch')"
   ]
  },
  {
   "cell_type": "markdown",
   "metadata": {},
   "source": [
    "Does it really represent what we need? Otherwise, we would like to create our own histogram"
   ]
  },
  {
   "cell_type": "code",
   "execution_count": null,
   "metadata": {},
   "outputs": [],
   "source": [
    "import matplotlib.pyplot as plt\n",
    "\n",
    "nn = s.flat.notes.stream()\n",
    "\n",
    "pitchHistogram = {}\n",
    "\n",
    "for n in nn:\n",
    "    pitchHistogram[n.nameWithOctave] = pitchHistogram.get(n.nameWithOctave, 0) + n.quarterLength # NOTE: .quarterLength\n",
    "    \n",
    "xValues = pitchHistogram.keys()\n",
    "yValues = pitchHistogram.values()\n",
    "\n",
    "plt.bar(xValues, yValues)\n",
    "plt.show()"
   ]
  },
  {
   "cell_type": "code",
   "execution_count": null,
   "metadata": {},
   "outputs": [],
   "source": []
  }
 ],
 "metadata": {
  "kernelspec": {
   "display_name": "Python 3 (ipykernel)",
   "language": "python",
   "name": "python3"
  },
  "language_info": {
   "codemirror_mode": {
    "name": "ipython",
    "version": 3
   },
   "file_extension": ".py",
   "mimetype": "text/x-python",
   "name": "python",
   "nbconvert_exporter": "python",
   "pygments_lexer": "ipython3",
   "version": "3.7.11"
  }
 },
 "nbformat": 4,
 "nbformat_minor": 2
}
